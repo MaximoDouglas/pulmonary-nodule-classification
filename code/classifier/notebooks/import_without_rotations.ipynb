{
  "nbformat": 4,
  "nbformat_minor": 0,
  "metadata": {
    "colab": {
      "name": "import_without_rotations.ipynb",
      "version": "0.3.2",
      "provenance": [],
      "collapsed_sections": [],
      "toc_visible": true
    },
    "kernelspec": {
      "name": "python3",
      "display_name": "Python 3"
    }
  },
  "cells": [
    {
      "cell_type": "markdown",
      "metadata": {
        "id": "sdyfwb_aZWNB",
        "colab_type": "text"
      },
      "source": [
        "# Configure enviroment"
      ]
    },
    {
      "cell_type": "code",
      "metadata": {
        "id": "q88TRW8TZIqs",
        "colab_type": "code",
        "colab": {}
      },
      "source": [
        "from google.colab import drive\n",
        "drive.mount('drive', force_remount=True)"
      ],
      "execution_count": 0,
      "outputs": []
    },
    {
      "cell_type": "markdown",
      "metadata": {
        "id": "8jpumH0kZcy_",
        "colab_type": "text"
      },
      "source": [
        "# Imports"
      ]
    },
    {
      "cell_type": "code",
      "metadata": {
        "id": "8b4a2UbMY_2u",
        "colab_type": "code",
        "colab": {}
      },
      "source": [
        "import math\n",
        "import itertools\n",
        "import re\n",
        "import os\n",
        "import imageio\n",
        "import shutil\n",
        "import numpy as np\n",
        "import pandas as pd\n",
        "from scipy.ndimage import rotate\n",
        "import matplotlib.pyplot as plt\n",
        "from sklearn.model_selection import KFold\n",
        "from tqdm import tqdm\n",
        "import random"
      ],
      "execution_count": 0,
      "outputs": []
    },
    {
      "cell_type": "markdown",
      "metadata": {
        "id": "fIGx04rqrZEh",
        "colab_type": "text"
      },
      "source": [
        "# Settings"
      ]
    },
    {
      "cell_type": "code",
      "metadata": {
        "id": "ZfNtVy7rrYMI",
        "colab_type": "code",
        "colab": {}
      },
      "source": [
        "# Begin Settings -------------------------|\n",
        "\n",
        "# Important folders\n",
        "content_folder = \"/content/drive/My Drive/Pesquisa - Dicom images/data\"\n",
        "ben_dir = content_folder + \"/images/solid-nodules-with-attributes/benigno\"\n",
        "mal_dir = content_folder + \"/images/solid-nodules-with-attributes/maligno\"\n",
        "features_path = content_folder + \"/features/solidNodules.csv\"\n",
        "\n",
        "# Random seed to get a better reproductibility\n",
        "np.random.seed(1937)\n",
        "\n",
        "# If set True, it shows data informations in the output of the program\n",
        "LOG = True\n",
        "\n",
        "# Images resolution\n",
        "RES = 64\n",
        "\n",
        "# Size of the test fold\n",
        "TEST_SIZE = 50\n",
        "\n",
        "# Number of slices for each nodule\n",
        "SLICES = 5\n",
        "\n",
        "# Strategy used for normalization - it can be 'first' or 'balanced'\n",
        "STRATEGY = 'first'\n",
        "\n",
        "'''If set True, it will repeat slices when the number of slices of a nodule is less than SLICES. \n",
        "    If set False, the normalization will be filling with black images in the end'''\n",
        "REPEAT = False\n",
        "\n",
        "# It makes the name for the folder where the numpies will be stored\n",
        "\n",
        "data_folder = content_folder + \"/no_aug_nps/data-\" + str(SLICES) + \"-\" + str(STRATEGY)\n",
        "if (REPEAT):\n",
        "    data_folder += \"-repeat\"\n",
        "\n",
        "# End settings ---------------------------|"
      ],
      "execution_count": 0,
      "outputs": []
    },
    {
      "cell_type": "markdown",
      "metadata": {
        "id": "TYDtO6zqroRI",
        "colab_type": "text"
      },
      "source": [
        "# Balanced Strategy\n",
        "Normalizes the nodule slices number:\n",
        "    - A nodule with less than n slices is completed with black slices\n",
        "    - A nodule with more than n slices have its first and last one selected, plus the 1 + (n-1/5)*k, where k = {1, 2, 3, 4}"
      ]
    },
    {
      "cell_type": "code",
      "metadata": {
        "id": "JkT3yeePrrye",
        "colab_type": "code",
        "colab": {}
      },
      "source": [
        "def normalize_balanced(nodules, n_slices, repeat=False):\n",
        "    '''Normalizes the nodule slices number:\n",
        "    - A nodule with less than n slices is completed with black slices\n",
        "    - A nodule with more than n slices have its first and last one selected, plus\n",
        "    the 1 + (n-1/5)*k, where k = {1, 2, 3, 4}'''\n",
        "\n",
        "    normalized_slices = []\n",
        "\n",
        "    for nodule in nodules:\n",
        "        new_nodule = []\n",
        "        \n",
        "        # If repeat is set True, repeat slices\n",
        "        if repeat:\n",
        "            times = math.ceil(n_slices/len(nodule))\n",
        "            nodule = list(itertools.chain.from_iterable(itertools.repeat(x, times) for x in nodule))\n",
        "\n",
        "        if len(nodule) <= n_slices:\n",
        "                for slice in nodule:\n",
        "                    new_nodule.append(slice)\n",
        "                for _ in range(n_slices - len(nodule)):\n",
        "                    new_nodule.append(np.zeros((RES, RES)))\n",
        "        elif len(nodule) > n_slices:\n",
        "            new_nodule.append(nodule[0])\n",
        "            for k in range(1, n_slices-1):\n",
        "                new_nodule.append(nodule[round(1 + ((len(nodule) - 1) / (n_slices-1)) * k)])\n",
        "            new_nodule.append(nodule[-1])\n",
        "        normalized_slices.append(new_nodule)\n",
        "    return normalized_slices"
      ],
      "execution_count": 0,
      "outputs": []
    },
    {
      "cell_type": "markdown",
      "metadata": {
        "id": "9IjafQlhrxCv",
        "colab_type": "text"
      },
      "source": [
        "# Get first slices Strategy\n",
        "    Normalizes the nodule slices number:\n",
        "    - A nodule with less than n slices is completed with black slices\n",
        "    - A nodule with more than n slices have its n first slices selected"
      ]
    },
    {
      "cell_type": "code",
      "metadata": {
        "id": "-5V5vO3Jr29N",
        "colab_type": "code",
        "colab": {}
      },
      "source": [
        "def normalize_first(nodules, n_slices, repeat=False):\n",
        "    '''Normalizes the nodule slices number:\n",
        "    - A nodule with less than n slices is completed with black slices\n",
        "    - A nodule with more than n slices have its n first slices selected'''\n",
        "\n",
        "    normalized_slices = []\n",
        "\n",
        "    for nodule in nodules:\n",
        "        new_nodule = []\n",
        "\n",
        "        if repeat:\n",
        "            times = math.ceil(n_slices/len(nodule))\n",
        "            nodule = list(itertools.chain.from_iterable(itertools.repeat(x, times) for x in nodule))\n",
        "\n",
        "        if len(nodule) <= n_slices:\n",
        "                for slice in nodule:\n",
        "                    new_nodule.append(slice)\n",
        "                for i in range(n_slices - len(nodule)):\n",
        "                    new_nodule.append(np.zeros((RES, RES)))\n",
        "        elif len(nodule) > n_slices:\n",
        "            for i in range(0, n_slices):\n",
        "                new_nodule.append(nodule[i])\n",
        "        normalized_slices.append(new_nodule)\n",
        "    return normalized_slices"
      ],
      "execution_count": 0,
      "outputs": []
    },
    {
      "cell_type": "markdown",
      "metadata": {
        "id": "5i4fM2JXr7w3",
        "colab_type": "text"
      },
      "source": [
        "# Read images and features, connecting each nodule to its features\n",
        "Reads the image files and a .csv with the features of each nodule\n",
        "    - path (string): path to the nodules folders\n",
        "    - path_features (string): path to the features .csv\n",
        "    - list: list of nodules with slices as Numpy Arrays\n",
        "    - features: list of features corresponding to the nodules on list"
      ]
    },
    {
      "cell_type": "code",
      "metadata": {
        "id": "cXm9uJI2r9V0",
        "colab_type": "code",
        "colab": {}
      },
      "source": [
        "def read_images(path, path_features):\n",
        "    '''Reads the image files and a .csv with the features of each nodule\n",
        "    Parameters:\n",
        "        path (string): path to the nodules folders\n",
        "        path_features (string): path to the features .csv\n",
        "    Returns:\n",
        "        list: list of nodules with slices as Numpy Arrays\n",
        "        features: list of features corresponding to the nodules on list'''\n",
        "\n",
        "    df = pd.read_csv(path_features)\n",
        "    allFeatures = df.values\n",
        "\n",
        "    list        = []\n",
        "    features    = []\n",
        "\n",
        "    for _,dirs,_ in os.walk(path):\n",
        "        for dirname in sorted(dirs, key=str.lower):\n",
        "            for _,subdirs,_ in os.walk(path + \"/\" + dirname):\n",
        "                for subdirname in sorted(subdirs, key=str.lower):\n",
        "                    for root2,_,files2 in os.walk(path + \"/\" + dirname + \"/\" + subdirname):\n",
        "                        slices      = []\n",
        "                        files2[:]   = [re.findall('\\\\d+', x)[0] for x in files2]\n",
        "\n",
        "                        axis            = 0 # To get the Rows indices\n",
        "                        examColumn      = 0 # Column of the csv where the exam code is\n",
        "                        noduleColumn    = 1 # Column of the csv where the nodule code is\n",
        "\n",
        "                        # index of the rows that have the exam id equal to the exam id of the current nodule\n",
        "                        indExam = np.where(allFeatures[:,examColumn] == dirname)[axis]\n",
        "\n",
        "                        # index of the rows that have the nodule id equal to the id of the current nodule\n",
        "                        indNodule = np.where(allFeatures[:,noduleColumn] == subdirname)[axis]\n",
        "\n",
        "                        # Intersect the two arrays, which results in the row for the features \n",
        "                        # of the current nodule\n",
        "                        i = np.intersect1d(indExam,indNodule)\n",
        "\n",
        "                        # A list is returned, but there's just one value, so I used its index\n",
        "                        index   = 0\n",
        "                        exam    = allFeatures[i, examColumn][index]\n",
        "                        nodule  = allFeatures[i, noduleColumn][index]\n",
        "\n",
        "                        '''Verify if there's more than one index for each nodule\n",
        "                        and if there's divergence between the nodule image file location and the\n",
        "                        csv values'''\n",
        "\n",
        "                        if((len(i) > 1) or (str(exam) != str(dirname)) or (str(nodule) != str(subdirname))):\n",
        "                            print(\"Features error!\")\n",
        "                        else:\n",
        "                            '''Transform the list of index with just one value in a\n",
        "                            primitive value to use as index to save the features values'''\n",
        "                            i = i[0]\n",
        "\n",
        "                        for f in sorted(files2, key=float):\n",
        "                            img = imageio.imread(root2 + \"/\" + f + \".png\", as_gray=True)\n",
        "                            slices.append(img)\n",
        "\n",
        "                        list.append(slices)\n",
        "                        features.append(allFeatures[i,2:74].tolist())\n",
        "\n",
        "    return list, features"
      ],
      "execution_count": 0,
      "outputs": []
    },
    {
      "cell_type": "markdown",
      "metadata": {
        "id": "HTTQbmXou-OR",
        "colab_type": "text"
      },
      "source": [
        "# Nodule(s) plot(s)\n",
        "Function to plot a sequence of images. \n",
        "    - nodules: a numpy of nodule images\n",
        "    - ind_nodules: list of indices to referenciate nodules in the 'nodules' numpy\n",
        "    - ind_slices: list of indices to referenciate the slices of each nodule to be plotted"
      ]
    },
    {
      "cell_type": "code",
      "metadata": {
        "id": "CWV0DBUyvE97",
        "colab_type": "code",
        "colab": {}
      },
      "source": [
        "'''Function to plot a sequence of images. \n",
        "    nodules: a numpy of nodule images\n",
        "    ind_nodules: list of indices to referenciate nodules in the 'nodules' numpy\n",
        "    ind_slices: list of indices to referenciate the slices of each nodule to be plotted'''\n",
        "def plot_nodule(nodules, ind_nodules, ind_slices):\n",
        "    \n",
        "    rows = len(ind_nodules)\n",
        "    columns = len(ind_slices)\n",
        "\n",
        "    _, axarr = plt.subplots(rows,columns)\n",
        "    ind = 0\n",
        "\n",
        "    for r, i in enumerate(ind_nodules):\n",
        "        for c, j in enumerate(ind_slices):\n",
        "            nod = nodules[i, :, :, j, 0]\n",
        "            if (rows != 1 and columns != 1):\n",
        "                axarr[r,c].imshow(nod, cmap='gray')\n",
        "                axarr[r,c].set_title('Nodule - ' + str(i) + ' - Slice - ' + str(j))\n",
        "            else:\n",
        "                axarr[ind].imshow(nod, cmap='gray')\n",
        "                axarr[ind].set_title('Nodule - ' + str(i) + ' - Slice - ' + str(j))\n",
        "                ind += 1\n",
        "    \n",
        "    plt.subplots_adjust(hspace=0.5)\n",
        "    plt.show()"
      ],
      "execution_count": 0,
      "outputs": []
    },
    {
      "cell_type": "markdown",
      "metadata": {
        "id": "BmrOsaAOtu3W",
        "colab_type": "text"
      },
      "source": [
        "# Script to read and save data on numpy files"
      ]
    },
    {
      "cell_type": "code",
      "metadata": {
        "id": "zhnOboUGtvtO",
        "colab_type": "code",
        "outputId": "66187264-4995-4bfa-f242-a20205f1f482",
        "colab": {
          "base_uri": "https://localhost:8080/",
          "height": 248
        }
      },
      "source": [
        "if __name__ == \"__main__\":\n",
        "\n",
        "    print(\"Begin > \")\n",
        "\n",
        "    ben, f_ben = read_images(path=ben_dir, path_features=features_path)\n",
        "    mal, f_mal = read_images(path=mal_dir, path_features=features_path)\n",
        "\n",
        "    if (STRATEGY == 'first'):\n",
        "        ben = normalize_first(nodules=ben, n_slices=SLICES, repeat=REPEAT)\n",
        "        mal = normalize_first(nodules=mal, n_slices=SLICES, repeat=REPEAT)\n",
        "    else:\n",
        "        ben = normalize_balanced(nodules=ben, n_slices=SLICES, repeat=REPEAT)\n",
        "        mal = normalize_balanced(nodules=mal, n_slices=SLICES, repeat=REPEAT)\n",
        "\n",
        "    if LOG:\n",
        "        print(\"Changind shape > \")\n",
        "        print(\"     Ben as a list: \", len(ben))\n",
        "        print(\"     Mal as a list: \", len(mal))\n",
        "\n",
        "    ben = np.concatenate(ben).reshape(len(ben), SLICES, RES, RES, 1)\n",
        "    mal = np.concatenate(mal).reshape(len(mal), SLICES, RES, RES, 1)\n",
        "    \n",
        "    if LOG:\n",
        "        print(\"     Ben as a numpy: \", ben.shape)\n",
        "        print(\"     Mal as a numpy: \", mal.shape)\n",
        "        print()\n",
        "        print(\"Swaping axes > \")\n",
        "\n",
        "    ben = np.moveaxis(ben, 1, 3)\n",
        "    mal = np.moveaxis(mal, 1, 3)\n",
        "\n",
        "    if LOG:\n",
        "        print(\"     Ben new shape: \", ben.shape)\n",
        "        print(\"     Mal new shape: \", mal.shape)\n",
        "        print()\n",
        "        print(\"Separating Train and Test > \")\n",
        "\n",
        "    ben_test_indices = np.random.choice(len(ben), TEST_SIZE, replace=False)\n",
        "    mal_test_indices = np.random.choice(len(mal), TEST_SIZE, replace=False)\n",
        "\n",
        "    ben_test = np.array([ben[i] for i in ben_test_indices])\n",
        "    f_ben_test = np.array([f_ben[i] for i in ben_test_indices])\n",
        "\n",
        "    mal_test = np.array([mal[i] for i in mal_test_indices])\n",
        "    f_mal_test = np.array([f_mal[i] for i in mal_test_indices])\n",
        "\n",
        "    ben_train = np.delete(ben, ben_test_indices, axis=0)\n",
        "    f_ben_train = np.delete(f_ben, ben_test_indices, axis=0)\n",
        "\n",
        "    mal_train = np.delete(mal, mal_test_indices, axis=0)\n",
        "    f_mal_train = np.delete(f_mal, mal_test_indices, axis=0)\n",
        "\n",
        "    # Clean memory\n",
        "    del(ben, f_ben, mal, f_mal, ben_dir, mal_dir, features_path, ben_test_indices, mal_test_indices)\n",
        "\n",
        "    if LOG:\n",
        "        print(\"     Ben train: \", ben_train.shape)\n",
        "        print(\"     Ben test: \", ben_test.shape)\n",
        "        print()\n",
        "        print(\"     Ben features train: \", f_ben_train.shape)\n",
        "        print(\"     Ben features test: \", f_ben_test.shape)\n",
        "        print()\n",
        "        print(\"     Mal train: \", mal_train.shape)\n",
        "        print(\"     Mal test: \", mal_test.shape)\n",
        "        print()\n",
        "        print(\"     Mal features train: \", f_mal_train.shape)\n",
        "        print(\"     Mal features test: \", f_mal_test.shape)\n",
        "        print()\n",
        "        print(\"Data augmentation > \")\n",
        "\n",
        "    \"\"\" ben_train, f_ben_train = rotate_slices(nodules=ben_train, features=f_ben_train, times=5)\n",
        "    mal_train, f_mal_train = rotate_slices(nodules=mal_train, features=f_mal_train, times=13) \"\"\"\n",
        "    \n",
        "    if LOG:\n",
        "        print(\"     Ben train: \", ben_train.shape)\n",
        "        print(\"     Ben features train: \", f_ben_train.shape)\n",
        "        print()\n",
        "        print(\"     Mal train: \", mal_train.shape)\n",
        "        print(\"     Mal features train: \", f_mal_train.shape)\n",
        "        print()\n",
        "        print(\"Concatenating Ben and Mal > \")\n",
        "\n",
        "    X_train = np.concatenate([ben_train, mal_train])\n",
        "    f_train = np.concatenate([f_ben_train, f_mal_train])\n",
        "\n",
        "    X_test  = np.concatenate([ben_test, mal_test])\n",
        "    f_test  = np.concatenate([f_ben_test, f_mal_test])\n",
        "\n",
        "    if LOG:\n",
        "        print(\"     X_train: \", X_train.shape)\n",
        "        print(\"     f_train: \", f_train.shape)\n",
        "        print()\n",
        "        print(\"     X_test: \", X_test.shape)\n",
        "        print(\"     f_test: \", f_test.shape)\n",
        "\n",
        "        print()\n",
        "        print(\"Generating labels and saving numpies on disk > \")\n",
        "    \n",
        "    train_labels = len(ben_train) * [0] + len(mal_train) * [1]\n",
        "    Y_train = np.array(train_labels)\n",
        "\n",
        "    test_labels = len(ben_test) * [0] + len(mal_test) * [1]\n",
        "    Y_test = np.array(test_labels)\n",
        "    \n",
        "    shutil.rmtree(data_folder, ignore_errors=True)\n",
        "    os.mkdir(data_folder)\n",
        "\n",
        "    np.save(data_folder + \"/f_train.npy\", f_train)\n",
        "    np.save(data_folder + \"/f_test.npy\", f_test)\n",
        "    np.save(data_folder + \"/X_train.npy\", X_train)\n",
        "    np.save(data_folder + \"/X_test.npy\", X_test)\n",
        "    np.save(data_folder + \"/Y_train.npy\", Y_train)\n",
        "    np.save(data_folder + \"/Y_test.npy\", Y_test)\n",
        "    \n",
        "    print(\"Finished!\")"
      ],
      "execution_count": 10,
      "outputs": [
        {
          "output_type": "stream",
          "text": [
            "Begin > \n"
          ],
          "name": "stdout"
        },
        {
          "output_type": "error",
          "ename": "NameError",
          "evalue": "ignored",
          "traceback": [
            "\u001b[0;31m---------------------------------------------------------------------------\u001b[0m",
            "\u001b[0;31mNameError\u001b[0m                                 Traceback (most recent call last)",
            "\u001b[0;32m<ipython-input-10-b400e45e94c2>\u001b[0m in \u001b[0;36m<module>\u001b[0;34m()\u001b[0m\n\u001b[1;32m      3\u001b[0m     \u001b[0mprint\u001b[0m\u001b[0;34m(\u001b[0m\u001b[0;34m\"Begin > \"\u001b[0m\u001b[0;34m)\u001b[0m\u001b[0;34m\u001b[0m\u001b[0;34m\u001b[0m\u001b[0m\n\u001b[1;32m      4\u001b[0m \u001b[0;34m\u001b[0m\u001b[0m\n\u001b[0;32m----> 5\u001b[0;31m     \u001b[0mben\u001b[0m\u001b[0;34m,\u001b[0m \u001b[0mf_ben\u001b[0m \u001b[0;34m=\u001b[0m \u001b[0mread_images\u001b[0m\u001b[0;34m(\u001b[0m\u001b[0mpath\u001b[0m\u001b[0;34m=\u001b[0m\u001b[0mben_dir\u001b[0m\u001b[0;34m,\u001b[0m \u001b[0mpath_features\u001b[0m\u001b[0;34m=\u001b[0m\u001b[0mfeatures_path\u001b[0m\u001b[0;34m)\u001b[0m\u001b[0;34m\u001b[0m\u001b[0;34m\u001b[0m\u001b[0m\n\u001b[0m\u001b[1;32m      6\u001b[0m     \u001b[0mmal\u001b[0m\u001b[0;34m,\u001b[0m \u001b[0mf_mal\u001b[0m \u001b[0;34m=\u001b[0m \u001b[0mread_images\u001b[0m\u001b[0;34m(\u001b[0m\u001b[0mpath\u001b[0m\u001b[0;34m=\u001b[0m\u001b[0mmal_dir\u001b[0m\u001b[0;34m,\u001b[0m \u001b[0mpath_features\u001b[0m\u001b[0;34m=\u001b[0m\u001b[0mfeatures_path\u001b[0m\u001b[0;34m)\u001b[0m\u001b[0;34m\u001b[0m\u001b[0;34m\u001b[0m\u001b[0m\n\u001b[1;32m      7\u001b[0m \u001b[0;34m\u001b[0m\u001b[0m\n",
            "\u001b[0;31mNameError\u001b[0m: name 'ben_dir' is not defined"
          ]
        }
      ]
    }
  ]
}
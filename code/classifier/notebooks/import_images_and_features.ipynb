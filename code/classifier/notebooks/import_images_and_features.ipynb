{
  "nbformat": 4,
  "nbformat_minor": 0,
  "metadata": {
    "colab": {
      "name": "import_images_and_features.ipynb",
      "version": "0.3.2",
      "provenance": [],
      "collapsed_sections": [],
      "toc_visible": true
    },
    "kernelspec": {
      "name": "python3",
      "display_name": "Python 3"
    },
    "accelerator": "GPU"
  },
  "cells": [
    {
      "metadata": {
        "id": "sdyfwb_aZWNB",
        "colab_type": "text"
      },
      "cell_type": "markdown",
      "source": [
        "# Configure enviroment"
      ]
    },
    {
      "metadata": {
        "id": "q88TRW8TZIqs",
        "colab_type": "code",
        "colab": {}
      },
      "cell_type": "code",
      "source": [
        "from google.colab import drive\n",
        "drive.mount('drive', force_remount=True)"
      ],
      "execution_count": 0,
      "outputs": []
    },
    {
      "metadata": {
        "id": "8jpumH0kZcy_",
        "colab_type": "text"
      },
      "cell_type": "markdown",
      "source": [
        "# Imports"
      ]
    },
    {
      "metadata": {
        "id": "8b4a2UbMY_2u",
        "colab_type": "code",
        "colab": {}
      },
      "cell_type": "code",
      "source": [
        "import math\n",
        "import itertools\n",
        "import re\n",
        "import os\n",
        "import imageio\n",
        "import shutil\n",
        "import numpy as np\n",
        "import pandas as pd\n",
        "from scipy.ndimage import rotate\n",
        "import matplotlib.pyplot as plt\n",
        "from sklearn.model_selection import KFold\n",
        "from tqdm import tqdm\n",
        "import random"
      ],
      "execution_count": 0,
      "outputs": []
    },
    {
      "metadata": {
        "id": "fIGx04rqrZEh",
        "colab_type": "text"
      },
      "cell_type": "markdown",
      "source": [
        "# Settings"
      ]
    },
    {
      "metadata": {
        "id": "ZfNtVy7rrYMI",
        "colab_type": "code",
        "colab": {}
      },
      "cell_type": "code",
      "source": [
        "# Begin Settings -------------------------|\n",
        "\n",
        "# If set True, it shows data informations in the output of the program\n",
        "LOG = True\n",
        "\n",
        "# Random seed to get a better reproductibility\n",
        "np.random.seed(1937)\n",
        "\n",
        "# Resolution of the images\n",
        "RES = 64\n",
        "\n",
        "# Size of the test fold\n",
        "TEST_SIZE = 50\n",
        "\n",
        "# ------------------------------data strategy settings------------------------------\n",
        "\n",
        "# Number of slices for each nodule\n",
        "SLICES = 5\n",
        "\n",
        "# Strategy used for normalization - it can be 'first' or 'balanced'\n",
        "STRATEGY = 'first'\n",
        "\n",
        "'''If set True, it will repeat slices when the number of slices of a nodule is less than SLICES. \n",
        "    If set False, the normalization will be filling with black images in the end'''\n",
        "REPEAT = False\n",
        "\n",
        "prefix = \"/content/drive/My Drive/Pesquisa - Dicom images/data\"\n",
        "\n",
        "# It makes the name for the folder where the numpies will be stored\n",
        "data_folder = prefix + \"/clean_nps/data-\" + str(SLICES) + \"-\" + str(STRATEGY)\n",
        "if (REPEAT):\n",
        "    data_folder += \"-repeat\"\n",
        "\n",
        "# Important folders ---------------------------------------------------------\n",
        "\n",
        "base_dir = prefix + \"/images/solid-nodules-with-attributes\"\n",
        "\n",
        "# Folder for the benigno image files\n",
        "ben_dir = base_dir + \"/benigno\"\n",
        "\n",
        "# Folder for the maligno image files\n",
        "mal_dir = base_dir + \"/maligno\"\n",
        "\n",
        "# Path for the features file\n",
        "features_path = prefix + \"/features/solidNodules.csv\""
      ],
      "execution_count": 0,
      "outputs": []
    },
    {
      "metadata": {
        "id": "TYDtO6zqroRI",
        "colab_type": "text"
      },
      "cell_type": "markdown",
      "source": [
        "# Balanced Strategy\n",
        "Normalizes the nodule slices number:\n",
        "    - A nodule with less than n slices is completed with black slices\n",
        "    - A nodule with more than n slices have its first and last one selected, plus the 1 + (n-1/5)*k, where k = {1, 2, 3, 4}"
      ]
    },
    {
      "metadata": {
        "id": "JkT3yeePrrye",
        "colab_type": "code",
        "colab": {}
      },
      "cell_type": "code",
      "source": [
        "def normalize_balanced(nodules, n_slices, repeat=False):\n",
        "    normalized_slices = []\n",
        "\n",
        "    for nodule in nodules:\n",
        "        new_nodule = []\n",
        "        \n",
        "        # If repeat is set True, repeat slices\n",
        "        if repeat:\n",
        "            times = math.ceil(n_slices/len(nodule))\n",
        "            nodule = list(itertools.chain.from_iterable(itertools.repeat(x, times) for x in nodule))\n",
        "\n",
        "        if len(nodule) <= n_slices:\n",
        "                for slice in nodule:\n",
        "                    new_nodule.append(slice)\n",
        "                for _ in range(n_slices - len(nodule)):\n",
        "                    new_nodule.append(np.zeros((RES, RES)))\n",
        "        elif len(nodule) > n_slices:\n",
        "            new_nodule.append(nodule[0])\n",
        "            for k in range(1, n_slices-1):\n",
        "                new_nodule.append(nodule[round(1 + ((len(nodule) - 1) / (n_slices-1)) * k)])\n",
        "            new_nodule.append(nodule[-1])\n",
        "        normalized_slices.append(new_nodule)\n",
        "    return normalized_slices"
      ],
      "execution_count": 0,
      "outputs": []
    },
    {
      "metadata": {
        "id": "9IjafQlhrxCv",
        "colab_type": "text"
      },
      "cell_type": "markdown",
      "source": [
        "# Get first slices Strategy\n",
        "    Normalizes the nodule slices number:\n",
        "    - A nodule with less than n slices is completed with black slices\n",
        "    - A nodule with more than n slices have its n first slices selected"
      ]
    },
    {
      "metadata": {
        "id": "-5V5vO3Jr29N",
        "colab_type": "code",
        "colab": {}
      },
      "cell_type": "code",
      "source": [
        "def normalize_first(nodules, n_slices, repeat=False):\n",
        "    normalized_slices = []\n",
        "\n",
        "    for nodule in nodules:\n",
        "        new_nodule = []\n",
        "\n",
        "        if repeat:\n",
        "            times = math.ceil(n_slices/len(nodule))\n",
        "            nodule = list(itertools.chain.from_iterable(itertools.repeat(x, times) for x in nodule))\n",
        "\n",
        "        if len(nodule) <= n_slices:\n",
        "                for slice in nodule:\n",
        "                    new_nodule.append(slice)\n",
        "                for i in range(n_slices - len(nodule)):\n",
        "                    new_nodule.append(np.zeros((RES, RES)))\n",
        "        elif len(nodule) > n_slices:\n",
        "            for i in range(0, n_slices):\n",
        "                new_nodule.append(nodule[i])\n",
        "        normalized_slices.append(new_nodule)\n",
        "    return normalized_slices"
      ],
      "execution_count": 0,
      "outputs": []
    },
    {
      "metadata": {
        "id": "5i4fM2JXr7w3",
        "colab_type": "text"
      },
      "cell_type": "markdown",
      "source": [
        "# Read images and features, connecting each nodule to its features\n",
        "Reads the image files and a .csv with the features of each nodule\n",
        "    - path (string): path to the nodules folders\n",
        "    - path_features (string): path to the features .csv\n",
        "    - list: list of nodules with slices as Numpy Arrays\n",
        "    - features: list of features corresponding to the nodules on list"
      ]
    },
    {
      "metadata": {
        "id": "cXm9uJI2r9V0",
        "colab_type": "code",
        "colab": {}
      },
      "cell_type": "code",
      "source": [
        "def read_images(path, path_features):\n",
        "    df = pd.read_csv(path_features)\n",
        "    allFeatures = df.values\n",
        "\n",
        "    list        = []\n",
        "    features    = []\n",
        "\n",
        "    for _,dirs,_ in os.walk(path):\n",
        "        for dirname in sorted(dirs, key=str.lower):\n",
        "            for _,subdirs,_ in os.walk(path + \"/\" + dirname):\n",
        "                for subdirname in sorted(subdirs, key=str.lower):\n",
        "                    for root2,_,files2 in os.walk(path + \"/\" + dirname + \"/\" + subdirname):\n",
        "                        slices      = []\n",
        "                        files2[:]   = [re.findall('\\\\d+', x)[0] for x in files2]\n",
        "\n",
        "                        axis            = 0 # To get the Rows indices\n",
        "                        examColumn      = 0 # Column of the csv where the exam code is\n",
        "                        noduleColumn    = 1 # Column of the csv where the nodule code is\n",
        "\n",
        "                        # index of the rows that have the exam id equal to the exam id of the current nodule\n",
        "                        indExam = np.where(allFeatures[:,examColumn] == dirname)[axis]\n",
        "\n",
        "                        # index of the rows that have the nodule id equal to the id of the current nodule\n",
        "                        indNodule = np.where(allFeatures[:,noduleColumn] == subdirname)[axis]\n",
        "\n",
        "                        # Intersect the two arrays, which results in the row for the features \n",
        "                        # of the current nodule\n",
        "                        i = np.intersect1d(indExam,indNodule)\n",
        "\n",
        "                        # A list is returned, but there's just one value, so I used its index\n",
        "                        index   = 0\n",
        "                        exam    = allFeatures[i, examColumn][index]\n",
        "                        nodule  = allFeatures[i, noduleColumn][index]\n",
        "\n",
        "                        '''Verify if there's more than one index for each nodule\n",
        "                        and if there's divergence between the nodule image file location and the\n",
        "                        csv values'''\n",
        "\n",
        "                        if((len(i) > 1) or (str(exam) != str(dirname)) or (str(nodule) != str(subdirname))):\n",
        "                            print(\"Features error!\")\n",
        "                        else:\n",
        "                            '''Transform the list of index with just one value in a\n",
        "                            primitive value to use as index to save the features values'''\n",
        "                            i = i[0]\n",
        "\n",
        "                        for f in sorted(files2, key=float):\n",
        "                            img = imageio.imread(root2 + \"/\" + f + \".png\", as_gray=True)\n",
        "                            slices.append(img)\n",
        "\n",
        "                        list.append(slices)\n",
        "                        features.append(allFeatures[i,2:74].tolist())\n",
        "\n",
        "    return list, features"
      ],
      "execution_count": 0,
      "outputs": []
    },
    {
      "metadata": {
        "id": "HTTQbmXou-OR",
        "colab_type": "text"
      },
      "cell_type": "markdown",
      "source": [
        "# Nodule(s) plot(s)\n",
        "Function to plot a sequence of images. \n",
        "    - nodules: a numpy of nodule images\n",
        "    - ind_nodules: list of indices to referenciate nodules in the 'nodules' numpy\n",
        "    - ind_slices: list of indices to referenciate the slices of each nodule to be plotted"
      ]
    },
    {
      "metadata": {
        "id": "CWV0DBUyvE97",
        "colab_type": "code",
        "colab": {}
      },
      "cell_type": "code",
      "source": [
        "'''Function to plot a sequence of images. \n",
        "    nodules: a numpy of nodule images\n",
        "    ind_nodules: list of indices to referenciate nodules in the 'nodules' numpy\n",
        "    ind_slices: list of indices to referenciate the slices of each nodule to be plotted'''\n",
        "def plot_nodule(nodules, ind_nodules, ind_slices):\n",
        "    \n",
        "    rows = len(ind_nodules)\n",
        "    columns = len(ind_slices)\n",
        "\n",
        "    _, axarr = plt.subplots(rows,columns)\n",
        "    ind = 0\n",
        "\n",
        "    for r, i in enumerate(ind_nodules):\n",
        "        for c, j in enumerate(ind_slices):\n",
        "            nod = nodules[i, :, :, j, 0]\n",
        "            if (rows != 1 and columns != 1):\n",
        "                axarr[r,c].imshow(nod, cmap='gray')\n",
        "                axarr[r,c].set_title('Nodule - ' + str(i) + ' - Slice - ' + str(j))\n",
        "            else:\n",
        "                axarr[ind].imshow(nod, cmap='gray')\n",
        "                axarr[ind].set_title('Nodule - ' + str(i) + ' - Slice - ' + str(j))\n",
        "                ind += 1\n",
        "    \n",
        "    plt.subplots_adjust(hspace=0.5)\n",
        "    plt.show()"
      ],
      "execution_count": 0,
      "outputs": []
    },
    {
      "metadata": {
        "id": "LZSx8yHOudKk",
        "colab_type": "text"
      },
      "cell_type": "markdown",
      "source": [
        "# Verify if the features are OK"
      ]
    },
    {
      "metadata": {
        "id": "vEhGPTDLug0l",
        "colab_type": "code",
        "colab": {}
      },
      "cell_type": "code",
      "source": [
        "def verify_features(features, step):\n",
        "    index = np.random.randint(0, len(features) - step - 1)\n",
        "    \n",
        "    if (features[index].all() == features[index + step].all()):\n",
        "        return \"     Features repeat - OK\"\n",
        "    else:\n",
        "        return \"     Features repeat - FAIL\""
      ],
      "execution_count": 0,
      "outputs": []
    },
    {
      "metadata": {
        "id": "pq4E05S2sapI",
        "colab_type": "text"
      },
      "cell_type": "markdown",
      "source": [
        "# Data augmentation\n",
        "Rotates a list of images n times.\n",
        "        - 'rotated' is a list that will contain all nodule images (originals and the results of the rotations)\n",
        "        - 'aug_feat' is a list that will contain all nodule features (repeated the same amount as the images get rotated)"
      ]
    },
    {
      "metadata": {
        "id": "zWaTcrmSsbZ4",
        "colab_type": "code",
        "colab": {}
      },
      "cell_type": "code",
      "source": [
        "def rotate_slices(nodules, features, times, mode='constant'):\n",
        "    rotated = nodules\n",
        "    aug_feat = features\n",
        "    angle = 360/times\n",
        "    \n",
        "    '''Make rotations (n - 1) times, where n is equal to 'times' parameter. \n",
        "        If it was n times, it would repeat the same image one more time (360 degree)'''\n",
        "    for i in range(1, times):\n",
        "        temp        = rotate(input=nodules, angle=i*angle, axes=(1, 2), reshape=False, mode=mode)\n",
        "        rotated     = np.concatenate([rotated, temp])\n",
        "        aug_feat    = np.concatenate([aug_feat, features])\n",
        "\n",
        "    return rotated, aug_feat"
      ],
      "execution_count": 0,
      "outputs": []
    },
    {
      "metadata": {
        "id": "BmrOsaAOtu3W",
        "colab_type": "text"
      },
      "cell_type": "markdown",
      "source": [
        "# Script to read and save data on numpy files"
      ]
    },
    {
      "metadata": {
        "id": "zhnOboUGtvtO",
        "colab_type": "code",
        "outputId": "7066e4db-c150-46cd-a5a3-c80423977e39",
        "colab": {
          "base_uri": "https://localhost:8080/",
          "height": 978
        }
      },
      "cell_type": "code",
      "source": [
        "if __name__ == \"__main__\":\n",
        "\n",
        "    print(\"Begin > \")\n",
        "\n",
        "    ben, f_ben = read_images(path=ben_dir, path_features=features_path)\n",
        "    mal, f_mal = read_images(path=mal_dir, path_features=features_path)\n",
        "\n",
        "    if (STRATEGY == 'first'):\n",
        "        ben = normalize_first(nodules=ben, n_slices=SLICES, repeat=REPEAT)\n",
        "        mal = normalize_first(nodules=mal, n_slices=SLICES, repeat=REPEAT)\n",
        "    else:\n",
        "        ben = normalize_balanced(nodules=ben, n_slices=SLICES, repeat=REPEAT)\n",
        "        mal = normalize_balanced(nodules=mal, n_slices=SLICES, repeat=REPEAT)\n",
        "\n",
        "    if LOG:\n",
        "        print(\"Changind shape > \")\n",
        "        print(\"     Ben as a list: \", len(ben))\n",
        "        print(\"     Mal as a list: \", len(mal))\n",
        "\n",
        "    ben = np.concatenate(ben).reshape(len(ben), SLICES, RES, RES, 1)\n",
        "    mal = np.concatenate(mal).reshape(len(mal), SLICES, RES, RES, 1)\n",
        "    \n",
        "    if LOG:\n",
        "        print(\"     Ben as a numpy: \", ben.shape)\n",
        "        print(\"     Mal as a numpy: \", mal.shape)\n",
        "        print()\n",
        "        print(\"Swaping axes > \")\n",
        "\n",
        "    ben = np.moveaxis(ben, 1, 3)\n",
        "    mal = np.moveaxis(mal, 1, 3)\n",
        "\n",
        "    if LOG:\n",
        "        print(\"     Ben new shape: \", ben.shape)\n",
        "        print(\"     Mal new shape: \", mal.shape)\n",
        "        print()\n",
        "        print(\"Separating Train and Test > \")\n",
        "\n",
        "    ben_test_indices = np.random.choice(len(ben), TEST_SIZE, replace=False)\n",
        "    mal_test_indices = np.random.choice(len(mal), TEST_SIZE, replace=False)\n",
        "\n",
        "    ben_test = np.array([ben[i] for i in ben_test_indices])\n",
        "    f_ben_test = np.array([f_ben[i] for i in ben_test_indices])\n",
        "\n",
        "    mal_test = np.array([mal[i] for i in mal_test_indices])\n",
        "    f_mal_test = np.array([f_mal[i] for i in mal_test_indices])\n",
        "\n",
        "    ben_train = np.delete(ben, ben_test_indices, axis=0)\n",
        "    f_ben_train = np.delete(f_ben, ben_test_indices, axis=0)\n",
        "\n",
        "    mal_train = np.delete(mal, mal_test_indices, axis=0)\n",
        "    f_mal_train = np.delete(f_mal, mal_test_indices, axis=0)\n",
        "\n",
        "    # Clean memory\n",
        "    del(ben, f_ben, mal, f_mal, ben_dir, mal_dir, features_path, ben_test_indices, mal_test_indices)\n",
        "\n",
        "    if LOG:\n",
        "        print(\"     Ben train: \", ben_train.shape)\n",
        "        print(\"     Ben test: \", ben_test.shape)\n",
        "        print()\n",
        "        print(\"     Ben features train: \", f_ben_train.shape)\n",
        "        print(\"     Ben features test: \", f_ben_test.shape)\n",
        "        print()\n",
        "        print(\"     Mal train: \", mal_train.shape)\n",
        "        print(\"     Mal test: \", mal_test.shape)\n",
        "        print()\n",
        "        print(\"     Mal features train: \", f_mal_train.shape)\n",
        "        print(\"     Mal features test: \", f_mal_test.shape)\n",
        "        print()\n",
        "        print(\"Data augmentation > \")\n",
        "\n",
        "    ben_train, f_ben_train = rotate_slices(nodules=ben_train, features=f_ben_train, times=5)\n",
        "    mal_train, f_mal_train = rotate_slices(nodules=mal_train, features=f_mal_train, times=13)\n",
        "    \n",
        "    if LOG:\n",
        "        print(verify_features(features=f_mal_train, step=217))\n",
        "\n",
        "        plot_nodule(nodules=mal_train, ind_nodules=[0, 217, 434, 651], ind_slices=[0, 1, 2, 3])\n",
        "        \n",
        "        print(\"     Ben train: \", ben_train.shape)\n",
        "        print(\"     Ben features train: \", f_ben_train.shape)\n",
        "        print()\n",
        "        print(\"     Mal train: \", mal_train.shape)\n",
        "        print(\"     Mal features train: \", f_mal_train.shape)\n",
        "        print()\n",
        "        print(\"Concatenating Ben and Mal > \")\n",
        "\n",
        "    X_train = np.concatenate([ben_train, mal_train])\n",
        "    f_train = np.concatenate([f_ben_train, f_mal_train])\n",
        "\n",
        "    X_test  = np.concatenate([ben_test, mal_test])\n",
        "    f_test  = np.concatenate([f_ben_test, f_mal_test])\n",
        "\n",
        "    if LOG:\n",
        "        print(\"     X_train: \", X_train.shape)\n",
        "        print(\"     f_train: \", f_train.shape)\n",
        "        print()\n",
        "        print(\"     X_test: \", X_test.shape)\n",
        "        print(\"     f_test: \", f_test.shape)\n",
        "\n",
        "        print()\n",
        "        print(\"Generating labels and saving numpies on disk > \")\n",
        "    \n",
        "    train_labels = len(ben_train) * [0] + len(mal_train) * [1]\n",
        "    Y_train = np.array(train_labels)\n",
        "\n",
        "    test_labels = len(ben_test) * [0] + len(mal_test) * [1]\n",
        "    Y_test = np.array(test_labels)\n",
        "    \n",
        "    shutil.rmtree(data_folder, ignore_errors=True)\n",
        "    os.mkdir(data_folder)\n",
        "\n",
        "    np.save(data_folder + \"/f_train.npy\", f_train)\n",
        "    np.save(data_folder + \"/f_test.npy\", f_test)\n",
        "    np.save(data_folder + \"/X_train.npy\", X_train)\n",
        "    np.save(data_folder + \"/X_test.npy\", X_test)\n",
        "    np.save(data_folder + \"/Y_train.npy\", Y_train)\n",
        "    np.save(data_folder + \"/Y_test.npy\", Y_test)\n",
        "    \n",
        "    print(\"Finished!\")"
      ],
      "execution_count": 24,
      "outputs": [
        {
          "output_type": "stream",
          "text": [
            "Begin > \n",
            "Changind shape > \n",
            "     Ben as a list:  615\n",
            "     Mal as a list:  267\n",
            "     Ben as a numpy:  (615, 5, 64, 64, 1)\n",
            "     Mal as a numpy:  (267, 5, 64, 64, 1)\n",
            "\n",
            "Swaping axes > \n",
            "     Ben new shape:  (615, 64, 64, 5, 1)\n",
            "     Mal new shape:  (267, 64, 64, 5, 1)\n",
            "\n",
            "Separating Train and Test > \n",
            "     Ben train:  (565, 64, 64, 5, 1)\n",
            "     Ben test:  (50, 64, 64, 5, 1)\n",
            "\n",
            "     Ben features train:  (565, 72)\n",
            "     Ben features test:  (50, 72)\n",
            "\n",
            "     Mal train:  (217, 64, 64, 5, 1)\n",
            "     Mal test:  (50, 64, 64, 5, 1)\n",
            "\n",
            "     Mal features train:  (217, 72)\n",
            "     Mal features test:  (50, 72)\n",
            "\n",
            "Data augmentation > \n",
            "     Features repeat - OK\n"
          ],
          "name": "stdout"
        },
        {
          "output_type": "display_data",
          "data": {
            "image/png": "[encoded data removed]",
            "text/plain": [
              "<Figure size 432x288 with 16 Axes>"
            ]
          },
          "metadata": {
            "tags": []
          }
        },
        {
          "output_type": "stream",
          "text": [
            "     Ben train:  (2825, 64, 64, 5, 1)\n",
            "     Ben features train:  (2825, 72)\n",
            "\n",
            "     Mal train:  (2821, 64, 64, 5, 1)\n",
            "     Mal features train:  (2821, 72)\n",
            "\n",
            "Concatenating Ben and Mal > \n",
            "     X_train:  (5646, 64, 64, 5, 1)\n",
            "     f_train:  (5646, 72)\n",
            "\n",
            "     X_test:  (100, 64, 64, 5, 1)\n",
            "     f_test:  (100, 72)\n",
            "\n",
            "Generating labels and saving numpies on disk > \n",
            "Finished!\n"
          ],
          "name": "stdout"
        }
      ]
    }
  ]
}